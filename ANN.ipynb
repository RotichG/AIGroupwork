{
  "nbformat": 4,
  "nbformat_minor": 0,
  "metadata": {
    "colab": {
      "name": "ANN.ipynb",
      "provenance": [],
      "collapsed_sections": [],
      "authorship_tag": "ABX9TyO3QALNX9ypw9Jt7H7osWV9",
      "include_colab_link": true
    },
    "kernelspec": {
      "name": "python3",
      "display_name": "Python 3"
    },
    "language_info": {
      "name": "python"
    }
  },
  "cells": [
    {
      "cell_type": "markdown",
      "metadata": {
        "id": "view-in-github",
        "colab_type": "text"
      },
      "source": [
        "<a href=\"https://colab.research.google.com/github/RotichG/AIGroupwork/blob/main/ANN.ipynb\" target=\"_parent\"><img src=\"https://colab.research.google.com/assets/colab-badge.svg\" alt=\"Open In Colab\"/></a>"
      ]
    },
    {
      "cell_type": "code",
      "metadata": {
        "id": "D-KP5m3qGskI"
      },
      "source": [
        "import pandas as pd \n",
        "import numpy as np\n",
        "from numpy import array\n",
        "from sklearn.preprocessing import Normalizer\n",
        "from keras.activations import sigmoid\n",
        "from keras.losses import mse\n",
        "from numpy.random import uniform"
      ],
      "execution_count": 1,
      "outputs": []
    },
    {
      "cell_type": "code",
      "source": [
        "data={'Day 1':[30,40,50,20,15,60],'Day 2':[40,50,20,15,60,70],\n",
        " 'Day 3':[50,20,15,60,70,50],'Target':[20,15,60,70,50,40]}\n",
        "dataset=pd.DataFrame(data)\n",
        "print(\"{} \".format(dataset))"
      ],
      "metadata": {
        "colab": {
          "base_uri": "https://localhost:8080/"
        },
        "id": "cPQK4eW8XDJM",
        "outputId": "29b34dd2-088e-4f3b-9b2f-1dfb7b8bc069"
      },
      "execution_count": 3,
      "outputs": [
        {
          "output_type": "stream",
          "name": "stdout",
          "text": [
            "   Day 1  Day 2  Day 3  Target\n",
            "0     30     40     50      20\n",
            "1     40     50     20      15\n",
            "2     50     20     15      60\n",
            "3     20     15     60      70\n",
            "4     15     60     70      50\n",
            "5     60     70     50      40 \n"
          ]
        }
      ]
    },
    {
      "cell_type": "code",
      "source": [
        "x=dataset.drop('Target',axis=1)\n",
        "y=dataset['Target']\n",
        "print(\"x :{}\".format(x))\n",
        "print(\"y :{}\".format(y))"
      ],
      "metadata": {
        "colab": {
          "base_uri": "https://localhost:8080/"
        },
        "id": "RYVx1jFKXJXe",
        "outputId": "09989ea7-f09d-4cad-9f07-22a32952edb4"
      },
      "execution_count": 4,
      "outputs": [
        {
          "output_type": "stream",
          "name": "stdout",
          "text": [
            "x :   Day 1  Day 2  Day 3\n",
            "0     30     40     50\n",
            "1     40     50     20\n",
            "2     50     20     15\n",
            "3     20     15     60\n",
            "4     15     60     70\n",
            "5     60     70     50\n",
            "y :0    20\n",
            "1    15\n",
            "2    60\n",
            "3    70\n",
            "4    50\n",
            "5    40\n",
            "Name: Target, dtype: int64\n"
          ]
        }
      ]
    },
    {
      "cell_type": "code",
      "source": [
        "x_norm = Normalizer(norm='max').fit_transform(x)\n",
        "y_norm=Normalizer(norm='max').fit_transform(np.reshape(array(y),(1,-1)))\n",
        "print(\"x normalized : {}\".format(x_norm))\n",
        "print(\"y normalized : {}\".format(y_norm))"
      ],
      "metadata": {
        "colab": {
          "base_uri": "https://localhost:8080/"
        },
        "id": "sP6iHOoKXLpQ",
        "outputId": "ee6f8643-d6be-44c1-f2fb-fb77edd19327"
      },
      "execution_count": 5,
      "outputs": [
        {
          "output_type": "stream",
          "name": "stdout",
          "text": [
            "x normalized : [[0.6        0.8        1.        ]\n",
            " [0.8        1.         0.4       ]\n",
            " [1.         0.4        0.3       ]\n",
            " [0.33333333 0.25       1.        ]\n",
            " [0.21428571 0.85714286 1.        ]\n",
            " [0.85714286 1.         0.71428571]]\n",
            "y normalized : [[0.28571429 0.21428571 0.85714286 1.         0.71428571 0.57142857]]\n"
          ]
        }
      ]
    },
    {
      "cell_type": "code",
      "source": [
        "weight_1=uniform(-1,1,(3,2))\n",
        "weight_2=uniform(-1,1,(2,1))\n",
        "print(\"weight_1 normalized : {}\".format(weight_1))\n",
        "print(\"weight_2 normalized : {}\".format(weight_2))"
      ],
      "metadata": {
        "colab": {
          "base_uri": "https://localhost:8080/"
        },
        "id": "7yJJtbKJXOTj",
        "outputId": "2d064213-ca91-4144-f5ff-b533d24a9e60"
      },
      "execution_count": 6,
      "outputs": [
        {
          "output_type": "stream",
          "name": "stdout",
          "text": [
            "weight_1 normalized : [[ 0.62245596 -0.32212913]\n",
            " [ 0.74659645  0.09103498]\n",
            " [ 0.91133908  0.06577939]]\n",
            "weight_2 normalized : [[-0.54239996]\n",
            " [ 0.73836521]]\n"
          ]
        }
      ]
    },
    {
      "cell_type": "code",
      "source": [
        "epochs=100"
      ],
      "metadata": {
        "id": "QhQHpghBXU5x"
      },
      "execution_count": 7,
      "outputs": []
    },
    {
      "cell_type": "code",
      "source": [
        "learningRate=0.3\n",
        "for epoch in range(100):\n",
        "  for x in range(4):\n",
        "    x_data=x_norm[x]\n",
        "    hiddenLayerInputs=x_data@weight_1\n",
        "  \n",
        "    hiddenLayerInputs=sigmoid(hiddenLayerInputs).numpy();\n",
        "    final_output=hiddenLayerInputs@weight_2\n",
        "    \n",
        "    errorsatoutput=(y_norm[0][x]-final_output[0]) * (final_output[0] * (1-final_output[0]))\n",
        "    for w in range(len(weight_2)):\n",
        "      weight_2[w][0]=weight_2[w][0]+(learningRate * errorsatoutput * final_output[0])\n",
        "    errorForNodeI=errorsatoutput*weight_2[0][0] * (hiddenLayerInputs[0] * (1-hiddenLayerInputs[0]))\n",
        "    errorForNodeII=errorsatoutput*weight_2[1][0] * (hiddenLayerInputs[1] * (1-hiddenLayerInputs[1]))\n",
        "    for w1 in range(3):\n",
        "      weight_1[w1][0]=weight_1[w1][1]+(learningRate * errorForNodeI * hiddenLayerInputs[0])\n",
        "    for w2 in range(3):\n",
        "      weight_1[w2][1]=weight_1[w2][0]+(learningRate * errorForNodeII * hiddenLayerInputs[1])\n",
        "    "
      ],
      "metadata": {
        "id": "PM16GXgCXaCf"
      },
      "execution_count": 8,
      "outputs": []
    },
    {
      "cell_type": "code",
      "metadata": {
        "colab": {
          "base_uri": "https://localhost:8080/"
        },
        "id": "5h3KiQpQHUP6",
        "outputId": "0edf38cc-9655-4cb4-ec89-579109570368"
      },
      "source": [
        "\n",
        "output_2=x_norm[5]@weight_1\n",
        "#print('5th {}'.format(X_norm[5]))\n",
        "\n",
        "act_output1=sigmoid(output_2).numpy()\n",
        "\n",
        "pred_output1=act_output1@weight_2\n",
        "\n",
        "print('predicted result {}'.format(sigmoid(pred_output1)))\n",
        "print(\"actual result : {}\".format(y_norm[0][5]))\n",
        "#print(pred_output1)"
      ],
      "execution_count": 10,
      "outputs": [
        {
          "output_type": "stream",
          "name": "stdout",
          "text": [
            "predicted result [0.64986826]\n",
            "actual result : 0.5714285714285714\n"
          ]
        }
      ]
    }
  ]
}